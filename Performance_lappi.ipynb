{
 "cells": [
  {
   "cell_type": "code",
   "execution_count": 3,
   "id": "outdoor-shirt",
   "metadata": {},
   "outputs": [],
   "source": [
    "import psutil\n",
    "import csv\n",
    "import platform\n",
    "from datetime import datetime\n",
    "import time\n",
    "\n",
    "\n",
    "  \n",
    "\t# thing to run"
   ]
  },
  {
   "cell_type": "code",
   "execution_count": 4,
   "id": "corrected-novel",
   "metadata": {},
   "outputs": [],
   "source": [
    "def get_size(bytes, suffix=\"B\"):\n",
    "    \"\"\"\n",
    "    Scale bytes to its proper format\n",
    "    e.g:\n",
    "        1253656 => '1.20MB'\n",
    "        1253656678 => '1.17GB'\n",
    "    \"\"\"\n",
    "    factor = 1024\n",
    "    for unit in [\"\", \"K\", \"M\", \"G\", \"T\", \"P\"]:\n",
    "        if bytes < factor:\n",
    "            return f\"{bytes:.2f}\"\n",
    "        bytes /= factor"
   ]
  },
  {
   "cell_type": "code",
   "execution_count": 5,
   "id": "stable-kenya",
   "metadata": {},
   "outputs": [
    {
     "name": "stdout",
     "output_type": "stream",
     "text": [
      "======================================== System Information ========================================\n",
      "uname_result(system='Windows', node='KOLLI', release='10', version='10.0.19041', machine='AMD64', processor='Intel64 Family 6 Model 142 Stepping 10, GenuineIntel')\n",
      "Intel64 Family 6 Model 142 Stepping 10, GenuineIntel\n"
     ]
    }
   ],
   "source": [
    "print(\"=\"*40, \"System Information\", \"=\"*40)\n",
    "uname = platform.uname()\n",
    "print(uname)\n",
    "a=(\"Intel64 Family 6 Model 142 Stepping 10, GenuineIntel\")\n",
    "def remove2(a):\n",
    "    return a[1:-1]\n",
    "remove2(\"Intel64 Family 6 Model 142 Stepping 10, GenuineIntel\")\n",
    "print(a)\n"
   ]
  },
  {
   "cell_type": "code",
   "execution_count": 9,
   "id": "accredited-substance",
   "metadata": {},
   "outputs": [
    {
     "name": "stdout",
     "output_type": "stream",
     "text": [
      "Physical cores: 4\n",
      "Total cores: 8\n",
      "Max Frequency: 1800.00Mhz\n",
      "Min Frequency: 0.00Mhz\n",
      "Current Frequency: 1400.00Mhz\n",
      "CPU Usage Per Core:\n",
      "Total CPU Usage: 13.3%\n",
      "[30.3, 7.4, 28.0, 12.1, 14.8, 65.6, 19.8, 17.4]\n"
     ]
    }
   ],
   "source": [
    "# number of cores\n",
    "print(\"Physical cores:\", psutil.cpu_count(logical=False))\n",
    "print(\"Total cores:\", psutil.cpu_count(logical=True))\n",
    "# CPU frequencies\n",
    "cpufreq = psutil.cpu_freq()\n",
    "print(f\"Max Frequency: {cpufreq.max:.2f}Mhz\")\n",
    "print(f\"Min Frequency: {cpufreq.min:.2f}Mhz\")\n",
    "print(f\"Current Frequency: {cpufreq.current:.2f}Mhz\")\n",
    "# CPU usage\n",
    "print(\"CPU Usage Per Core:\")\n",
    "h=[]\n",
    "for i, percentage in enumerate(psutil.cpu_percent(percpu=True, interval=4)):\n",
    " \n",
    "    h.append(percentage)\n",
    "print(f\"Total CPU Usage: {psutil.cpu_percent()}%\")\n",
    "print(h)\n"
   ]
  },
  {
   "cell_type": "code",
   "execution_count": 8,
   "id": "printable-density",
   "metadata": {},
   "outputs": [
    {
     "name": "stdout",
     "output_type": "stream",
     "text": [
      "======================================== Memory Information ========================================\n",
      "Total: 7.66\n",
      "Available: 2.66\n",
      "Used: 5.01\n",
      "Percentage: 65.3%\n",
      "==================== SWAP ====================\n",
      "Total: 10.57\n",
      "Free: 3.98\n",
      "Used: 6.59\n",
      "Percentage: 62.3%\n"
     ]
    }
   ],
   "source": [
    "print(\"=\"*40, \"Memory Information\", \"=\"*40)\n",
    "# get the memory details\n",
    "svmem = psutil.virtual_memory()\n",
    "print(f\"Total: {get_size(svmem.total)}\")\n",
    "print(f\"Available: {get_size(svmem.available)}\")\n",
    "print(f\"Used: {get_size(svmem.used)}\")\n",
    "print(f\"Percentage: {svmem.percent}%\")\n",
    "print(\"=\"*20, \"SWAP\", \"=\"*20)\n",
    "# get the swap memory details (if exists)\n",
    "swap = psutil.swap_memory()\n",
    "print(f\"Total: {get_size(swap.total)}\")\n",
    "print(f\"Free: {get_size(swap.free)}\")\n",
    "print(f\"Used: {get_size(swap.used)}\")\n",
    "print(f\"Percentage: {swap.percent}%\")"
   ]
  },
  {
   "cell_type": "code",
   "execution_count": 10,
   "id": "comic-adaptation",
   "metadata": {},
   "outputs": [
    {
     "name": "stdout",
     "output_type": "stream",
     "text": [
      "======================================== Disk Information ========================================\n",
      "Partitions and Usage:\n",
      "  File system type: NTFS\n",
      "  Total Size: 58.11\n",
      "  Used: 42.84\n",
      "  Free: 15.26\n",
      "  Percentage: 73.7%\n",
      "  File system type: NTFS\n",
      "  Total Size: 58.59\n",
      "  Used: 2.60\n",
      "  Free: 55.99\n",
      "  Percentage: 4.4%\n",
      "  File system type: NTFS\n",
      "  Total Size: 58.59\n",
      "  Used: 3.69\n",
      "  Free: 54.91\n",
      "  Percentage: 6.3%\n",
      "  File system type: \n",
      "  File system type: NTFS\n",
      "  Total Size: 62.69\n",
      "  Used: 2.46\n",
      "  Free: 60.23\n",
      "  Percentage: 3.9%\n",
      "[sdiskpart(device='C:\\\\', mountpoint='C:\\\\', fstype='NTFS', opts='rw,fixed', maxfile=255, maxpath=260), sdiskpart(device='D:\\\\', mountpoint='D:\\\\', fstype='NTFS', opts='rw,fixed', maxfile=255, maxpath=260), sdiskpart(device='E:\\\\', mountpoint='E:\\\\', fstype='NTFS', opts='rw,fixed', maxfile=255, maxpath=260), sdiskpart(device='G:\\\\', mountpoint='G:\\\\', fstype='NTFS', opts='rw,fixed', maxfile=255, maxpath=260)]\n",
      "Total read: 128.16\n",
      "Total write: 136.06\n"
     ]
    }
   ],
   "source": [
    "print(\"=\"*40, \"Disk Information\", \"=\"*40)\n",
    "print(\"Partitions and Usage:\")\n",
    "# get all disk partitions\n",
    "partitions = psutil.disk_partitions()\n",
    "\n",
    "l=[]\n",
    "    \n",
    "for partition in partitions:\n",
    " \n",
    "    \n",
    "    \n",
    "    print(f\"  File system type: {partition.fstype}\")\n",
    "    try:\n",
    "        partition_usage = psutil.disk_usage(partition.mountpoint)\n",
    "    except PermissionError:\n",
    "        # this can be catched due to the disk that\n",
    "        # isn't ready\n",
    "        continue\n",
    "    print(f\"  Total Size: {get_size(partition_usage.total)}\")\n",
    "    print(f\"  Used: {get_size(partition_usage.used)}\")\n",
    "    print(f\"  Free: {get_size(partition_usage.free)}\")\n",
    "    print(f\"  Percentage: {partition_usage.percent}%\")\n",
    "    l.append(partition)\n",
    "   \n",
    "    \n",
    "    with open('device.csv', 'w+', newline ='')  as file:\n",
    "     header = ['Device', 'Mountpoint', 'Fstype','opts','maxfile','maxpath']\n",
    "     writer = csv.DictWriter(file, fieldnames = header)\n",
    "     write = csv.writer(file) \n",
    "     write.writerows(l) \n",
    "       \n",
    "    #writer.writerow(partition)\n",
    "    \n",
    "# get IO statistics since boot\n",
    "print(l)\n",
    "disk_io = psutil.disk_io_counters()\n",
    "print(f\"Total read: {get_size(disk_io.read_bytes)}\")\n",
    "print(f\"Total write: {get_size(disk_io.write_bytes)}\")"
   ]
  },
  {
   "cell_type": "code",
   "execution_count": null,
   "id": "unlike-disabled",
   "metadata": {},
   "outputs": [],
   "source": []
  },
  {
   "cell_type": "code",
   "execution_count": 10,
   "id": "continued-manual",
   "metadata": {},
   "outputs": [
    {
     "ename": "NameError",
     "evalue": "name 'svmem' is not defined",
     "output_type": "error",
     "traceback": [
      "\u001b[1;31m---------------------------------------------------------------------------\u001b[0m",
      "\u001b[1;31mNameError\u001b[0m                                 Traceback (most recent call last)",
      "\u001b[1;32m<ipython-input-10-20b66e62049d>\u001b[0m in \u001b[0;36m<module>\u001b[1;34m\u001b[0m\n\u001b[0;32m      2\u001b[0m     \u001b[1;31m# Code executed here\u001b[0m\u001b[1;33m\u001b[0m\u001b[1;33m\u001b[0m\u001b[1;33m\u001b[0m\u001b[0m\n\u001b[0;32m      3\u001b[0m \u001b[1;33m\u001b[0m\u001b[0m\n\u001b[1;32m----> 4\u001b[1;33m  \u001b[0mcsv_rowlist\u001b[0m \u001b[1;33m=\u001b[0m \u001b[1;33m[\u001b[0m\u001b[1;33m[\u001b[0m\u001b[1;34m\"System\"\u001b[0m\u001b[1;33m,\u001b[0m\u001b[1;34m\"Node\"\u001b[0m\u001b[1;33m,\u001b[0m\u001b[1;34m\"Release\"\u001b[0m\u001b[1;33m,\u001b[0m\u001b[1;34m\"Version\"\u001b[0m\u001b[1;33m,\u001b[0m\u001b[1;34m\"Machine\"\u001b[0m\u001b[1;33m,\u001b[0m\u001b[1;34m\"Processor\"\u001b[0m\u001b[1;33m,\u001b[0m\u001b[1;34m\"Physical\"\u001b[0m\u001b[1;33m,\u001b[0m\u001b[1;34m\"Total cores:\"\u001b[0m\u001b[1;33m,\u001b[0m\u001b[1;34m\"core0\"\u001b[0m\u001b[1;33m,\u001b[0m\u001b[1;34m\"core1\"\u001b[0m\u001b[1;33m,\u001b[0m\u001b[1;34m\"core2\"\u001b[0m\u001b[1;33m,\u001b[0m\u001b[1;34m\"core3\"\u001b[0m\u001b[1;33m,\u001b[0m\u001b[1;34m\"core4\"\u001b[0m\u001b[1;33m,\u001b[0m\u001b[1;34m\"core5\"\u001b[0m\u001b[1;33m,\u001b[0m\u001b[1;34m\"core6\"\u001b[0m\u001b[1;33m,\u001b[0m\u001b[1;34m\"core7\"\u001b[0m\u001b[1;33m,\u001b[0m\u001b[1;34m\"Max Frequency(MHz)\"\u001b[0m\u001b[1;33m,\u001b[0m\u001b[1;34m\"Min Frequency\"\u001b[0m\u001b[1;33m,\u001b[0m\u001b[1;34m\"Current Frequency\"\u001b[0m\u001b[1;33m,\u001b[0m\u001b[1;34m\"Total CPU Usage:\"\u001b[0m\u001b[1;33m,\u001b[0m\u001b[1;34m\"Total\"\u001b[0m\u001b[1;33m,\u001b[0m\u001b[1;34m\"Available\"\u001b[0m\u001b[1;33m,\u001b[0m\u001b[1;34m\"Used\"\u001b[0m\u001b[1;33m,\u001b[0m\u001b[1;34m\"Percentage\"\u001b[0m\u001b[1;33m,\u001b[0m\u001b[1;34m\"Total\"\u001b[0m\u001b[1;33m,\u001b[0m\u001b[1;34m\"Free\"\u001b[0m\u001b[1;33m,\u001b[0m\u001b[1;34m\"Used\"\u001b[0m\u001b[1;33m,\u001b[0m\u001b[1;34m\"Percentage\"\u001b[0m\u001b[1;33m,\u001b[0m\u001b[1;34m\"Device\"\u001b[0m\u001b[1;33m]\u001b[0m\u001b[1;33m,\u001b[0m\u001b[1;33m[\u001b[0m\u001b[0muname\u001b[0m\u001b[1;33m.\u001b[0m\u001b[0msystem\u001b[0m\u001b[1;33m,\u001b[0m\u001b[0muname\u001b[0m\u001b[1;33m.\u001b[0m\u001b[0mnode\u001b[0m\u001b[1;33m,\u001b[0m\u001b[0muname\u001b[0m\u001b[1;33m.\u001b[0m\u001b[0mrelease\u001b[0m\u001b[1;33m,\u001b[0m\u001b[0muname\u001b[0m\u001b[1;33m.\u001b[0m\u001b[0mversion\u001b[0m\u001b[1;33m,\u001b[0m\u001b[0muname\u001b[0m\u001b[1;33m.\u001b[0m\u001b[0mmachine\u001b[0m\u001b[1;33m,\u001b[0m\u001b[0ma\u001b[0m\u001b[1;33m,\u001b[0m\u001b[0mpsutil\u001b[0m\u001b[1;33m.\u001b[0m\u001b[0mcpu_count\u001b[0m\u001b[1;33m(\u001b[0m\u001b[0mlogical\u001b[0m\u001b[1;33m=\u001b[0m\u001b[1;32mFalse\u001b[0m\u001b[1;33m)\u001b[0m\u001b[1;33m,\u001b[0m\u001b[0mpsutil\u001b[0m\u001b[1;33m.\u001b[0m\u001b[0mcpu_count\u001b[0m\u001b[1;33m(\u001b[0m\u001b[0mlogical\u001b[0m\u001b[1;33m=\u001b[0m\u001b[1;32mTrue\u001b[0m\u001b[1;33m)\u001b[0m\u001b[1;33m,\u001b[0m\u001b[0mh\u001b[0m\u001b[1;33m[\u001b[0m\u001b[1;36m0\u001b[0m\u001b[1;33m]\u001b[0m\u001b[1;33m,\u001b[0m\u001b[0mh\u001b[0m\u001b[1;33m[\u001b[0m\u001b[1;36m1\u001b[0m\u001b[1;33m]\u001b[0m\u001b[1;33m,\u001b[0m\u001b[0mh\u001b[0m\u001b[1;33m[\u001b[0m\u001b[1;36m2\u001b[0m\u001b[1;33m]\u001b[0m\u001b[1;33m,\u001b[0m\u001b[0mh\u001b[0m\u001b[1;33m[\u001b[0m\u001b[1;36m3\u001b[0m\u001b[1;33m]\u001b[0m\u001b[1;33m,\u001b[0m\u001b[0mh\u001b[0m\u001b[1;33m[\u001b[0m\u001b[1;36m4\u001b[0m\u001b[1;33m]\u001b[0m\u001b[1;33m,\u001b[0m\u001b[0mh\u001b[0m\u001b[1;33m[\u001b[0m\u001b[1;36m5\u001b[0m\u001b[1;33m]\u001b[0m\u001b[1;33m,\u001b[0m\u001b[0mh\u001b[0m\u001b[1;33m[\u001b[0m\u001b[1;36m6\u001b[0m\u001b[1;33m]\u001b[0m\u001b[1;33m,\u001b[0m\u001b[0mh\u001b[0m\u001b[1;33m[\u001b[0m\u001b[1;36m7\u001b[0m\u001b[1;33m]\u001b[0m\u001b[1;33m,\u001b[0m\u001b[0mcpufreq\u001b[0m\u001b[1;33m.\u001b[0m\u001b[0mmax\u001b[0m\u001b[1;33m,\u001b[0m\u001b[0mcpufreq\u001b[0m\u001b[1;33m.\u001b[0m\u001b[0mmin\u001b[0m\u001b[1;33m,\u001b[0m\u001b[0mcpufreq\u001b[0m\u001b[1;33m.\u001b[0m\u001b[0mcurrent\u001b[0m\u001b[1;33m,\u001b[0m\u001b[0mpsutil\u001b[0m\u001b[1;33m.\u001b[0m\u001b[0mcpu_percent\u001b[0m\u001b[1;33m(\u001b[0m\u001b[1;33m)\u001b[0m\u001b[1;33m,\u001b[0m\u001b[0mget_size\u001b[0m\u001b[1;33m(\u001b[0m\u001b[0msvmem\u001b[0m\u001b[1;33m.\u001b[0m\u001b[0mtotal\u001b[0m\u001b[1;33m)\u001b[0m\u001b[1;33m,\u001b[0m\u001b[0mget_size\u001b[0m\u001b[1;33m(\u001b[0m\u001b[0msvmem\u001b[0m\u001b[1;33m.\u001b[0m\u001b[0mavailable\u001b[0m\u001b[1;33m)\u001b[0m\u001b[1;33m,\u001b[0m\u001b[0mget_size\u001b[0m\u001b[1;33m(\u001b[0m\u001b[0msvmem\u001b[0m\u001b[1;33m.\u001b[0m\u001b[0mused\u001b[0m\u001b[1;33m)\u001b[0m\u001b[1;33m,\u001b[0m\u001b[0msvmem\u001b[0m\u001b[1;33m.\u001b[0m\u001b[0mpercent\u001b[0m\u001b[1;33m,\u001b[0m\u001b[0mget_size\u001b[0m\u001b[1;33m(\u001b[0m\u001b[0mswap\u001b[0m\u001b[1;33m.\u001b[0m\u001b[0mtotal\u001b[0m\u001b[1;33m)\u001b[0m\u001b[1;33m,\u001b[0m\u001b[0mget_size\u001b[0m\u001b[1;33m(\u001b[0m\u001b[0mswap\u001b[0m\u001b[1;33m.\u001b[0m\u001b[0mfree\u001b[0m\u001b[1;33m)\u001b[0m\u001b[1;33m,\u001b[0m\u001b[0mget_size\u001b[0m\u001b[1;33m(\u001b[0m\u001b[0mswap\u001b[0m\u001b[1;33m.\u001b[0m\u001b[0mused\u001b[0m\u001b[1;33m)\u001b[0m\u001b[1;33m,\u001b[0m\u001b[0mswap\u001b[0m\u001b[1;33m.\u001b[0m\u001b[0mpercent\u001b[0m\u001b[1;33m,\u001b[0m\u001b[0mpartition\u001b[0m\u001b[1;33m.\u001b[0m\u001b[0mdevice\u001b[0m\u001b[1;33m]\u001b[0m\u001b[1;33m]\u001b[0m\u001b[1;33m\u001b[0m\u001b[1;33m\u001b[0m\u001b[0m\n\u001b[0m\u001b[0;32m      5\u001b[0m \u001b[1;33m\u001b[0m\u001b[0m\n\u001b[0;32m      6\u001b[0m  \u001b[1;32mwith\u001b[0m \u001b[0mopen\u001b[0m\u001b[1;33m(\u001b[0m\u001b[1;34m'Systinfo.csv'\u001b[0m\u001b[1;33m,\u001b[0m\u001b[1;34m'a'\u001b[0m\u001b[1;33m,\u001b[0m \u001b[0mnewline\u001b[0m\u001b[1;33m=\u001b[0m\u001b[1;34m\"\"\u001b[0m\u001b[1;33m)\u001b[0m \u001b[1;32mas\u001b[0m \u001b[0mfile\u001b[0m\u001b[1;33m:\u001b[0m\u001b[1;33m\u001b[0m\u001b[1;33m\u001b[0m\u001b[0m\n",
      "\u001b[1;31mNameError\u001b[0m: name 'svmem' is not defined"
     ]
    }
   ],
   "source": [
    "while True:\n",
    "    # Code executed here\n",
    "    \n",
    " csv_rowlist = [[\"System\",\"Node\",\"Release\",\"Version\",\"Machine\",\"Processor\",\"Physical\",\"Total cores:\",\"core0\",\"core1\",\"core2\",\"core3\",\"core4\",\"core5\",\"core6\",\"core7\",\"Max Frequency(MHz)\",\"Min Frequency\",\"Current Frequency\",\"Total CPU Usage:\",\"Total\",\"Available\",\"Used\",\"Percentage\",\"Total\",\"Free\",\"Used\",\"Percentage\",\"Device\"],[uname.system,uname.node,uname.release,uname.version,uname.machine,a,psutil.cpu_count(logical=False),psutil.cpu_count(logical=True),h[0],h[1],h[2],h[3],h[4],h[5],h[6],h[7],cpufreq.max,cpufreq.min,cpufreq.current,psutil.cpu_percent(),get_size(svmem.total),get_size(svmem.available),get_size(svmem.used),svmem.percent,get_size(swap.total),get_size(swap.free),get_size(swap.used),swap.percent,partition.device]]\n",
    "\n",
    " with open('Systinfo.csv','a', newline=\"\") as file:\n",
    "    writer = csv.writer(file)\n",
    "    writer.writerows(csv_rowlist)\n",
    " time.sleep(10)\n",
    "\n",
    "  "
   ]
  },
  {
   "cell_type": "code",
   "execution_count": null,
   "id": "excessive-cause",
   "metadata": {},
   "outputs": [],
   "source": []
  },
  {
   "cell_type": "code",
   "execution_count": null,
   "id": "amber-wealth",
   "metadata": {},
   "outputs": [],
   "source": []
  },
  {
   "cell_type": "code",
   "execution_count": null,
   "id": "binary-harrison",
   "metadata": {},
   "outputs": [],
   "source": []
  },
  {
   "cell_type": "code",
   "execution_count": null,
   "id": "attended-examination",
   "metadata": {},
   "outputs": [],
   "source": []
  },
  {
   "cell_type": "code",
   "execution_count": null,
   "id": "seasonal-villa",
   "metadata": {},
   "outputs": [],
   "source": []
  },
  {
   "cell_type": "code",
   "execution_count": null,
   "id": "traditional-socket",
   "metadata": {},
   "outputs": [],
   "source": []
  },
  {
   "cell_type": "code",
   "execution_count": null,
   "id": "presidential-nancy",
   "metadata": {},
   "outputs": [],
   "source": []
  },
  {
   "cell_type": "code",
   "execution_count": null,
   "id": "working-board",
   "metadata": {},
   "outputs": [],
   "source": []
  },
  {
   "cell_type": "code",
   "execution_count": null,
   "id": "mysterious-biotechnology",
   "metadata": {},
   "outputs": [],
   "source": []
  },
  {
   "cell_type": "code",
   "execution_count": null,
   "id": "intelligent-insurance",
   "metadata": {},
   "outputs": [],
   "source": []
  },
  {
   "cell_type": "code",
   "execution_count": null,
   "id": "lesbian-rubber",
   "metadata": {},
   "outputs": [],
   "source": []
  },
  {
   "cell_type": "code",
   "execution_count": null,
   "id": "ruled-premises",
   "metadata": {},
   "outputs": [],
   "source": []
  },
  {
   "cell_type": "code",
   "execution_count": null,
   "id": "acting-armor",
   "metadata": {},
   "outputs": [],
   "source": []
  }
 ],
 "metadata": {
  "kernelspec": {
   "display_name": "Python 3",
   "language": "python",
   "name": "python3"
  },
  "language_info": {
   "codemirror_mode": {
    "name": "ipython",
    "version": 3
   },
   "file_extension": ".py",
   "mimetype": "text/x-python",
   "name": "python",
   "nbconvert_exporter": "python",
   "pygments_lexer": "ipython3",
   "version": "3.7.9"
  }
 },
 "nbformat": 4,
 "nbformat_minor": 5
}
